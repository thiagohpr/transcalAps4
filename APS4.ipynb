{
 "cells": [
  {
   "cell_type": "markdown",
   "metadata": {},
   "source": [
    "# APS 4 - Mecânica dos Sólidos "
   ]
  },
  {
   "cell_type": "markdown",
   "metadata": {},
   "source": [
    "**Feito por:** Carolina Hirschheimer, Thiago Hampl, Rodrigo Nigri, Natália Carreras"
   ]
  },
  {
   "cell_type": "markdown",
   "metadata": {},
   "source": [
    "## Importando as bibliotecas necessárias"
   ]
  },
  {
   "cell_type": "code",
   "execution_count": 1,
   "metadata": {},
   "outputs": [],
   "source": [
    "from funcoesTermosol import *\n",
    "import numpy as np\n",
    "from math import *\n",
    "import matplotlib.pyplot as plt"
   ]
  },
  {
   "cell_type": "markdown",
   "metadata": {},
   "source": [
    "## Importando a base de dados"
   ]
  },
  {
   "cell_type": "code",
   "execution_count": 2,
   "metadata": {},
   "outputs": [],
   "source": [
    "# Dados \n",
    "# nn: número de nós \n",
    "# N: matriz dos nós\n",
    "# nm: número de membros\n",
    "# Inc: matriz de incidência\n",
    "# nc: número de cargas\n",
    "# F: forças\n",
    "# nr: número de restrições\n",
    "# R: restrições \n",
    "\n",
    "[nn,N,nm,Inc,nc,F,nr,R] = importa('entrada2.xls')"
   ]
  },
  {
   "cell_type": "code",
   "execution_count": 3,
   "metadata": {},
   "outputs": [
    {
     "data": {
      "image/png": "[encoded data removed]",
      "text/plain": [
       "<Figure size 432x288 with 1 Axes>"
      ]
     },
     "metadata": {
      "needs_background": "light"
     },
     "output_type": "display_data"
    }
   ],
   "source": [
    "plota(N,Inc)"
   ]
  },
  {
   "cell_type": "markdown",
   "metadata": {},
   "source": [
    "## Implementando funções de Jacobi e Gauss-Seidel"
   ]
  },
  {
   "cell_type": "code",
   "execution_count": 4,
   "metadata": {},
   "outputs": [],
   "source": [
    "def jacobi(K,F,ite,tol):\n",
    "    c = 0\n",
    "    if type(K) == list:\n",
    "        U = np.zeros((len(K),1))\n",
    "        n = len(K)\n",
    "    else:\n",
    "        U = np.zeros((K.shape[0],1))\n",
    "        n = K.shape[0]\n",
    "    U_copy = U.copy()\n",
    "    while c < ite:\n",
    "        for i in range(n):\n",
    "            U_copy[i][0] = F[i]\n",
    "            for j in range(n):\n",
    "                if j != i:\n",
    "                    U_copy[i][0] -= K[i][j] * U[j][0]\n",
    "            U_copy[i][0] /= K[i][i]\n",
    "\n",
    "        if 0 not in U:\n",
    "            error = []\n",
    "            for i,j in zip(U_copy,U):\n",
    "                error.append(abs((i-j)/j))\n",
    "            if max(error) < tol:\n",
    "                return U\n",
    "        U = U_copy.copy() \n",
    "        c += 1\n",
    "    return U\n",
    "\n",
    "def gauss_seidel(K,F,ite,tol):\n",
    "    c = 0\n",
    "    if type(K) == list:\n",
    "        U = np.zeros((len(K),1))\n",
    "        n = len(K)\n",
    "    else:\n",
    "        U = np.zeros((K.shape[0],1))\n",
    "        n = K.shape[0]\n",
    "    U_copy = U.copy()\n",
    "    while c < ite:\n",
    "        for i in range(n):\n",
    "            U_copy[i][0] = F[i]\n",
    "            for j in range(n):\n",
    "                if j != i:\n",
    "                    U_copy[i][0] -= K[i][j] * U_copy[j][0]\n",
    "            U_copy[i][0] /= K[i][i]\n",
    "\n",
    "        if 0 not in U:\n",
    "            error = []\n",
    "            for i,j in zip(U_copy,U):\n",
    "                error.append(abs((i-j)/j))\n",
    "            if max(error) < tol:\n",
    "                return U\n",
    "        U = U_copy.copy() \n",
    "        c += 1\n",
    "    return U"
   ]
  },
  {
   "cell_type": "markdown",
   "metadata": {},
   "source": [
    "## Cálculo da Matriz U"
   ]
  },
  {
   "cell_type": "code",
   "execution_count": 5,
   "metadata": {},
   "outputs": [],
   "source": [
    "## Matriz de conectivide\n",
    "M_conectividade = []\n",
    "\n",
    "i=0\n",
    "\n",
    "while (i<nm):\n",
    "    c_ = nn*[0]\n",
    "    c_[int(Inc[i,0])-1] = -1\n",
    "    c_[int(Inc[i,1])-1] = 1\n",
    "    M_conectividade.append(c_)   \n",
    "    i+=1\n",
    "    \n",
    "# Matriz de conectividade transposta\n",
    "M_conectividade_transposta = np.array(M_conectividade).T\n",
    "\n",
    "# Matriz de membros\n",
    "M_membros = np.matmul(N, M_conectividade_transposta)\n",
    "M_membros\n",
    "\n",
    "#Se, Ke e Kg\n",
    "Kg = np.zeros((nn*2, nn*2))\n",
    "for i in range(0, nm):\n",
    "    E = Inc[i,2]\n",
    "    A = Inc[i,3]\n",
    "    L = sqrt(((N[0][int(Inc[:,0][i])-1]-N[0][int(Inc[:,1][i])-1])**2+(N[1][int(Inc[:,0][i])-1]-N[1][int(Inc[:,1][i])-1])**2))\n",
    "    k = E*A/L\n",
    "    \n",
    "    M_membros_ = M_membros[:,i]\n",
    "    M_membros_.shape = [len(M_membros), 1]\n",
    "    \n",
    "    Se = (k * np.matmul(M_membros_, np.transpose(M_membros_))) / (np.linalg.norm(M_membros[:,i])**2)\n",
    "\n",
    "    M_conectividade_ = M_conectividade_transposta[:,i]\n",
    "    M_conectividade_.shape = [len(M_conectividade_transposta), 1]\n",
    "    \n",
    "    Ke = np.kron(np.matmul(M_conectividade_, np.transpose(M_conectividade_)), Se)\n",
    "    \n",
    "    Kg += Ke\n",
    "    \n",
    "# Aplicando condições de contorno\n",
    "M_forcas = np.delete(F, R.astype(int))\n",
    "M_Kg = np.delete(Kg, R.astype(int),0)\n",
    "M_Kg = np.delete(M_Kg, R.astype(int), 1)"
   ]
  },
  {
   "cell_type": "markdown",
   "metadata": {},
   "source": [
    "### Utilizando Jacobi"
   ]
  },
  {
   "cell_type": "code",
   "execution_count": 6,
   "metadata": {},
   "outputs": [
    {
     "name": "stdout",
     "output_type": "stream",
     "text": [
      "Deslocamentos por Jacobi [m]\n",
      "[[ 0.00000000e+00]\n",
      " [-9.52376350e-07]\n",
      " [ 0.00000000e+00]\n",
      " [ 0.00000000e+00]\n",
      " [ 1.60713913e-06]\n",
      " [-4.01786587e-06]]\n"
     ]
    }
   ],
   "source": [
    "U_j = jacobi(M_Kg, M_forcas, 1000, 1e-5)\n",
    "U_j_adj = np.zeros((nn*2,1))\n",
    "i = 0\n",
    "for n in range(len(U_j_adj)):\n",
    "    if n not in R:\n",
    "        U_j_adj[n] += U_j[i]\n",
    "        i += 1\n",
    "print(\"Deslocamentos por Jacobi [m]\")\n",
    "print(U_j_adj)"
   ]
  },
  {
   "cell_type": "markdown",
   "metadata": {},
   "source": [
    "### Utilizando Gauss-Seidel"
   ]
  },
  {
   "cell_type": "code",
   "execution_count": 7,
   "metadata": {},
   "outputs": [
    {
     "name": "stdout",
     "output_type": "stream",
     "text": [
      "Deslocamentos por Gauss-Seidel [m]\n",
      "[[ 0.00000000e+00]\n",
      " [-9.52374559e-07]\n",
      " [ 0.00000000e+00]\n",
      " [ 0.00000000e+00]\n",
      " [ 1.60713664e-06]\n",
      " [-4.01784609e-06]]\n"
     ]
    }
   ],
   "source": [
    "U_gs = gauss_seidel(M_Kg, M_forcas, 1000, 1e-5)\n",
    "U_gs_adj = np.zeros((nn*2,1))\n",
    "i = 0\n",
    "for e in range(len(U_gs_adj)):\n",
    "    if e not in R:\n",
    "        U_gs_adj[e] += U_gs[i]\n",
    "        i += 1\n",
    "print(\"Deslocamentos por Gauss-Seidel [m]\")\n",
    "print(U_gs_adj)"
   ]
  },
  {
   "cell_type": "markdown",
   "metadata": {},
   "source": [
    "### Utilizando forma geral"
   ]
  },
  {
   "cell_type": "code",
   "execution_count": 15,
   "metadata": {},
   "outputs": [
    {
     "name": "stdout",
     "output_type": "stream",
     "text": [
      "Deslocamentos pela forma geral [m]\n",
      "[[ 0.00000000e+00]\n",
      " [-9.52380952e-07]\n",
      " [ 0.00000000e+00]\n",
      " [ 0.00000000e+00]\n",
      " [ 1.60714286e-06]\n",
      " [-4.01785714e-06]]\n"
     ]
    }
   ],
   "source": [
    "U_general = np.linalg.solve(M_Kg, M_forcas)\n",
    "Ut = np.zeros((nn*2,1))\n",
    "i = 0\n",
    "for e in range(len(Ut)):\n",
    "    if e not in R:\n",
    "        Ut[e] += U_general[i]\n",
    "        i += 1\n",
    "print(\"Deslocamentos pela forma geral [m]\")\n",
    "print(Ut)"
   ]
  },
  {
   "cell_type": "markdown",
   "metadata": {},
   "source": [
    "## Reações de Apoio"
   ]
  },
  {
   "cell_type": "code",
   "execution_count": 16,
   "metadata": {},
   "outputs": [
    {
     "name": "stdout",
     "output_type": "stream",
     "text": [
      "Reacoes de apoio [N]\n",
      "[[  75.]\n",
      " [-225.]\n",
      " [ 100.]]\n"
     ]
    }
   ],
   "source": [
    "print(\"Reacoes de apoio [N]\")\n",
    "P = np.matmul(Kg,U_general_adj)\n",
    "P_r = np.zeros((nr,1))\n",
    "for i in range(nr):  \n",
    "    index = int(R[i])\n",
    "    P_r[i] = P[index]    \n",
    "print(P_r)"
   ]
  },
  {
   "cell_type": "markdown",
   "metadata": {},
   "source": [
    "## Deformações, tensões e forças"
   ]
  },
  {
   "cell_type": "code",
   "execution_count": 26,
   "metadata": {},
   "outputs": [],
   "source": [
    "Epsi=[]\n",
    "Ti=[]\n",
    "Fi=[]\n",
    "for i in range (nm):\n",
    "        \n",
    "    M = [Ut[(int(Inc[i, 0])-1)*2], Ut[(int(Inc[i, 0])-1)*2 +1], Ut[(int(Inc[i, 1])-1)*2], Ut[int(Inc[i, 1]-1)*2 +1]]\n",
    "    \n",
    "    L = sqrt(((N[0][int(Inc[:,0][i])-1]-N[0][int(Inc[:,1][i])-1])**2+( N[1][int(Inc[:,0][i])-1]-N[1][int(Inc[:,1][i])-1])**2))  \n",
    "\n",
    "    E =  Inc[i, 2]\n",
    "    A = Inc[i,3]\n",
    "    k = E*A/L\n",
    "    \n",
    "    s = (N[1][int(Inc[:,1][i])-1]-N[1][int(Inc[:,0][i])-1])/L\n",
    "    c = (N[0][int(Inc[:,1][i])-1]-N[0][int(Inc[:,0][i])-1])/L\n",
    "    \n",
    "    C = [-c, -s, c, s]\n",
    "\n",
    "    Eps = (1/L) * np.matmul(C, M)\n",
    "    T = Eps*E\n",
    "    F= T*A\n",
    "    \n",
    "    Epsi.append(Eps.tolist())\n",
    "    Ti.append(T.tolist())\n",
    "    Fi.append(F.tolist())\n",
    "\n",
    "Epsi = np.array(Epsi)\n",
    "Fi = np.array(Fi)\n",
    "Ti = np.array(Ti)"
   ]
  },
  {
   "cell_type": "markdown",
   "metadata": {},
   "source": [
    "### Deformações"
   ]
  },
  {
   "cell_type": "code",
   "execution_count": 27,
   "metadata": {},
   "outputs": [
    {
     "name": "stdout",
     "output_type": "stream",
     "text": [
      "Deformacoes []\n",
      "[[ 2.38095238e-06]\n",
      " [ 5.35714286e-06]\n",
      " [-2.97619048e-06]]\n"
     ]
    }
   ],
   "source": [
    "print(\"Deformacoes []\")\n",
    "print(Epsi)"
   ]
  },
  {
   "cell_type": "markdown",
   "metadata": {},
   "source": [
    "### Forças internas"
   ]
  },
  {
   "cell_type": "code",
   "execution_count": 28,
   "metadata": {},
   "outputs": [
    {
     "name": "stdout",
     "output_type": "stream",
     "text": [
      "Forcas internas [N]\n",
      "[[ 100.]\n",
      " [ 225.]\n",
      " [-125.]]\n"
     ]
    }
   ],
   "source": [
    "print(\"Forcas internas [N]\")\n",
    "print(Fi)"
   ]
  },
  {
   "cell_type": "markdown",
   "metadata": {},
   "source": [
    "### Tensões internas"
   ]
  },
  {
   "cell_type": "code",
   "execution_count": 29,
   "metadata": {},
   "outputs": [
    {
     "name": "stdout",
     "output_type": "stream",
     "text": [
      "Tensões internas [Pa]\n",
      "[[ 500000.]\n",
      " [1125000.]\n",
      " [-625000.]]\n"
     ]
    }
   ],
   "source": [
    "print(\"Tensões internas [Pa]\") \n",
    "print(Ti)"
   ]
  },
  {
   "cell_type": "markdown",
   "metadata": {},
   "source": [
    "## Gera saída"
   ]
  },
  {
   "cell_type": "code",
   "execution_count": 30,
   "metadata": {},
   "outputs": [],
   "source": [
    "geraSaida('saida_teste',Ft,Ut,Epsi,Fi,Ti)"
   ]
  },
  {
   "cell_type": "code",
   "execution_count": null,
   "metadata": {},
   "outputs": [],
   "source": []
  }
 ],
 "metadata": {
  "kernelspec": {
   "display_name": "Python 3",
   "language": "python",
   "name": "python3"
  },
  "language_info": {
   "codemirror_mode": {
    "name": "ipython",
    "version": 3
   },
   "file_extension": ".py",
   "mimetype": "text/x-python",
   "name": "python",
   "nbconvert_exporter": "python",
   "pygments_lexer": "ipython3",
   "version": "3.8.8"
  }
 },
 "nbformat": 4,
 "nbformat_minor": 2
}
