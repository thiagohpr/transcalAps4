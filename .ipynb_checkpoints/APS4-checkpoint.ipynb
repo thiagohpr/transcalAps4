{
 "cells": [
  {
   "cell_type": "markdown",
   "metadata": {},
   "source": [
    "# APS 4 - Mecânica dos Sólidos "
   ]
  },
  {
   "cell_type": "markdown",
   "metadata": {},
   "source": [
    "**Feito por:** Carolina Hirschheimer, Thiago Hampl, Rodrigo Nigri, Natália Carreras"
   ]
  },
  {
   "cell_type": "code",
   "execution_count": 26,
   "metadata": {},
   "outputs": [],
   "source": [
    "from funcoesTermosol import *\n",
    "import numpy as np\n",
    "from math import *\n",
    "import matplotlib.pyplot as plt"
   ]
  },
  {
   "cell_type": "code",
   "execution_count": 27,
   "metadata": {},
   "outputs": [],
   "source": [
    "# Dados \n",
    "# nn: número de nós \n",
    "# N: matriz dos nós\n",
    "# nm: número de membros\n",
    "# Inc: matriz de incidência\n",
    "# nc: número de cargas\n",
    "# F: forças\n",
    "# nr: número de restrições\n",
    "# R: restrições \n",
    "\n",
    "[nn,N,nm,Inc,nc,F,nr,R] = importa('entrada2.xls')"
   ]
  },
  {
   "cell_type": "code",
   "execution_count": 29,
   "metadata": {},
   "outputs": [
    {
     "data": {
      "image/png": "[encoded data removed]",
      "text/plain": [
       "<Figure size 432x288 with 1 Axes>"
      ]
     },
     "metadata": {
      "needs_background": "light"
     },
     "output_type": "display_data"
    }
   ],
   "source": [
    "plota(N,Inc)"
   ]
  },
  {
   "cell_type": "code",
   "execution_count": 32,
   "metadata": {},
   "outputs": [],
   "source": [
    "## Matriz de conectivide\n",
    "M_conectividade = []\n",
    "\n",
    "i=0\n",
    "\n",
    "while (i<nm):\n",
    "    c_ = nn*[0]\n",
    "    c_[int(Inc[i,0])-1] = -1\n",
    "    c_[int(Inc[i,1])-1] = 1\n",
    "    M_conectividade.append(c_)   \n",
    "    i+=1"
   ]
  },
  {
   "cell_type": "code",
   "execution_count": 33,
   "metadata": {},
   "outputs": [
    {
     "data": {
      "text/plain": [
       "array([[-1,  0,  1],\n",
       "       [ 1, -1,  0],\n",
       "       [ 0,  1, -1]])"
      ]
     },
     "execution_count": 33,
     "metadata": {},
     "output_type": "execute_result"
    }
   ],
   "source": [
    "# Matriz de conectividade transposta\n",
    "M_conectividade_transposta = np.array(M_conectividade).T\n",
    "M_conectividade_transposta"
   ]
  },
  {
   "cell_type": "code",
   "execution_count": 34,
   "metadata": {},
   "outputs": [
    {
     "data": {
      "text/plain": [
       "array([[ 0. ,  0.3, -0.3],\n",
       "       [ 0.4,  0. , -0.4]])"
      ]
     },
     "execution_count": 34,
     "metadata": {},
     "output_type": "execute_result"
    }
   ],
   "source": [
    "# Matriz de membros\n",
    "M_membros = np.matmul(N, M_conectividade_transposta)\n",
    "M_membros"
   ]
  },
  {
   "cell_type": "code",
   "execution_count": 69,
   "metadata": {},
   "outputs": [],
   "source": [
    "Kg = np.zeros((nn*2, nn*2))\n",
    "for i in range(0, nm):\n",
    "    E = Inc[i,2]\n",
    "    A = Inc[i,3]\n",
    "\n",
    "    L = sqrt(((N[0][int(Inc[:,0][i])-1]-N[0][int(Inc[:,1][i])-1])**2+(N[1][int(Inc[:,0][i])-1]-N[1][int(Inc[:,1][i])-1]    )**2))\n",
    "    \n",
    "    const = E*A/L\n",
    "    \n",
    "    M_aux = M_membros[:,i]\n",
    "    M_aux.shape = [len(M_membros), 1]\n",
    "    M_aux2 = np.transpose(M_aux)\n",
    "    Se = (const * np.matmul(M_aux, M_aux2)) / (np.linalg.norm(M_membros[:,i])**2)\n",
    "\n",
    "    C_aux = M_conectividade_transposta[:,i]\n",
    "    C_aux.shape = [len(M_conectividade_transposta), 1]\n",
    "    C_aux2 = np.transpose(C_aux)\n",
    "    \n",
    "    multi_C_aux = np.matmul(C_aux, C_aux2)\n",
    "    Ke = np.kron(multi_C_aux, Se)\n",
    "    Kg += Ke"
   ]
  },
  {
   "cell_type": "code",
   "execution_count": 70,
   "metadata": {},
   "outputs": [
    {
     "data": {
      "text/plain": [
       "array([   0.,  150., -100.])"
      ]
     },
     "execution_count": 70,
     "metadata": {},
     "output_type": "execute_result"
    }
   ],
   "source": [
    "F_c = np.delete(F, R.astype(int))\n",
    "F_c"
   ]
  },
  {
   "cell_type": "code",
   "execution_count": 71,
   "metadata": {},
   "outputs": [
    {
     "data": {
      "text/plain": [
       "array([[ 1.5876e+08, -4.0320e+07, -5.3760e+07],\n",
       "       [-4.0320e+07,  1.7024e+08,  4.0320e+07],\n",
       "       [-5.3760e+07,  4.0320e+07,  5.3760e+07]])"
      ]
     },
     "execution_count": 71,
     "metadata": {},
     "output_type": "execute_result"
    }
   ],
   "source": [
    "Kg_c = np.delete(Kg, R.astype(int),0)\n",
    "Kg_c = np.delete(Kg_c, R.astype(int), 1)\n",
    "Kg_c"
   ]
  },
  {
   "cell_type": "code",
   "execution_count": 72,
   "metadata": {},
   "outputs": [],
   "source": [
    "def jacobi(K,F,ite,tol):\n",
    "    if type(K) != list:\n",
    "        U = np.zeros((K.shape[0],1))\n",
    "        n = K.shape[0]\n",
    "    else:\n",
    "        U = np.zeros((len(K),1))\n",
    "        n = len(K)\n",
    "    U_ = U.copy()\n",
    "    count = 0\n",
    "    while count < ite:\n",
    "        for i in range(n):\n",
    "            U_[i][0] = F[i]\n",
    "            for j in range(n):\n",
    "                if j != i:\n",
    "                    U_[i][0] -= K[i][j] * U[j][0]\n",
    "            U_[i][0] /= K[i][i]\n",
    "\n",
    "        if 0 not in U:     # Cálculo do erro\n",
    "            ERROR_list = []\n",
    "            for i,j in zip(U_,U):\n",
    "                ERROR_list.append(abs((i-j)/j))\n",
    "            ERRO = max(ERROR_list)\n",
    "            if ERRO < tol:\n",
    "                print(\"Iterações: {0}\".format(count))\n",
    "                return U;\n",
    "        U = U_.copy() \n",
    "        count += 1\n",
    "    print(\"Iterações: {0}\".format(count))\n",
    "    return U"
   ]
  },
  {
   "cell_type": "code",
   "execution_count": 73,
   "metadata": {},
   "outputs": [],
   "source": [
    "def gauss_seidel(K,F,ite,tol):\n",
    "    if type(K) != list:\n",
    "        U = np.zeros((K.shape[0],1))\n",
    "        n = K.shape[0]\n",
    "    else:\n",
    "        U = np.zeros((len(K),1))\n",
    "        n = len(K)\n",
    "    U_ = U.copy()\n",
    "    count = 0\n",
    "    while count < ite:\n",
    "        for i in range(n):\n",
    "            U_[i][0] = F[i]\n",
    "            for j in range(n):\n",
    "                if j != i:\n",
    "                    U_[i][0] -= K[i][j] * U_[j][0]\n",
    "            U_[i][0] /= K[i][i]\n",
    "\n",
    "        if 0 not in U:     # Cálculo do erro\n",
    "            ERROR_list = []\n",
    "            for i,j in zip(U_,U):\n",
    "                ERROR_list.append(abs((i-j)/j))\n",
    "            ERRO = max(ERROR_list)\n",
    "            if ERRO < tol:\n",
    "                print(\"Iterações: {0}\".format(count))\n",
    "                return U;\n",
    "        U = U_.copy() \n",
    "        count += 1\n",
    "    print(\"Iterações: {0}\".format(count))\n",
    "    return U"
   ]
  },
  {
   "cell_type": "code",
   "execution_count": 74,
   "metadata": {},
   "outputs": [
    {
     "name": "stdout",
     "output_type": "stream",
     "text": [
      "Método Jacobi:\n",
      "Iterações: 59\n"
     ]
    }
   ],
   "source": [
    "print(\"Método Jacobi:\")\n",
    "u_jacobi = jacobi(Kg_c, F_c,1000, 1e-5)"
   ]
  },
  {
   "cell_type": "code",
   "execution_count": 75,
   "metadata": {},
   "outputs": [
    {
     "name": "stdout",
     "output_type": "stream",
     "text": [
      "Método Gauss-Seidel:\n",
      "Iterações: 12\n"
     ]
    }
   ],
   "source": [
    "print(\"Método Gauss-Seidel:\")\n",
    "u_gauss = gauss_seidel(Kg_c, F_c, 1000, 1e-5)"
   ]
  },
  {
   "cell_type": "code",
   "execution_count": 76,
   "metadata": {},
   "outputs": [
    {
     "data": {
      "text/plain": [
       "array([-9.52380952e-07,  1.60714286e-06, -4.01785714e-06])"
      ]
     },
     "execution_count": 76,
     "metadata": {},
     "output_type": "execute_result"
    }
   ],
   "source": [
    "U_ar = np.linalg.solve(Kg_c, F_c)\n",
    "U_ar"
   ]
  },
  {
   "cell_type": "code",
   "execution_count": 77,
   "metadata": {},
   "outputs": [
    {
     "data": {
      "text/plain": [
       "array([[ 0.00000000e+00],\n",
       "       [-9.52376350e-07],\n",
       "       [ 0.00000000e+00],\n",
       "       [ 0.00000000e+00],\n",
       "       [ 1.60713913e-06],\n",
       "       [-4.01786587e-06]])"
      ]
     },
     "execution_count": 77,
     "metadata": {},
     "output_type": "execute_result"
    }
   ],
   "source": [
    "u_jacobi_ajustado = np.zeros((nn*2,1))\n",
    "i = 0\n",
    "for e in range(len(u_jacobi_ajustado)):\n",
    "    if e not in R:\n",
    "        u_jacobi_ajustado[e] += u_jacobi[i]\n",
    "        i += 1\n",
    "u_jacobi_ajustado"
   ]
  },
  {
   "cell_type": "code",
   "execution_count": 78,
   "metadata": {},
   "outputs": [
    {
     "data": {
      "text/plain": [
       "array([[ 0.00000000e+00],\n",
       "       [-9.52374559e-07],\n",
       "       [ 0.00000000e+00],\n",
       "       [ 0.00000000e+00],\n",
       "       [ 1.60713664e-06],\n",
       "       [-4.01784609e-06]])"
      ]
     },
     "execution_count": 78,
     "metadata": {},
     "output_type": "execute_result"
    }
   ],
   "source": [
    "u_gauss_ajustado = np.zeros((nn*2,1))\n",
    "i = 0\n",
    "for e in range(len(u_gauss_ajustado)):\n",
    "    if e not in R:\n",
    "        u_gauss_ajustado[e] += u_gauss[i]\n",
    "        i += 1\n",
    "u_gauss_ajustado"
   ]
  },
  {
   "cell_type": "code",
   "execution_count": 79,
   "metadata": {},
   "outputs": [
    {
     "data": {
      "text/plain": [
       "array([[ 0.00000000e+00],\n",
       "       [-9.52380952e-07],\n",
       "       [ 0.00000000e+00],\n",
       "       [ 0.00000000e+00],\n",
       "       [ 1.60714286e-06],\n",
       "       [-4.01785714e-06]])"
      ]
     },
     "execution_count": 79,
     "metadata": {},
     "output_type": "execute_result"
    }
   ],
   "source": [
    "u = np.zeros((nn*2,1))\n",
    "i = 0\n",
    "for e in range(len(u)):\n",
    "    if e not in R:\n",
    "        u[e] += U_ar[i]\n",
    "        i += 1\n",
    "u"
   ]
  },
  {
   "cell_type": "code",
   "execution_count": 80,
   "metadata": {},
   "outputs": [
    {
     "data": {
      "text/plain": [
       "array([[ 7.50000000e+01],\n",
       "       [-2.84217094e-14],\n",
       "       [-2.25000000e+02],\n",
       "       [ 1.00000000e+02],\n",
       "       [ 1.50000000e+02],\n",
       "       [-1.00000000e+02]])"
      ]
     },
     "execution_count": 80,
     "metadata": {},
     "output_type": "execute_result"
    }
   ],
   "source": [
    "P = np.matmul(Kg,u)\n",
    "P"
   ]
  },
  {
   "cell_type": "code",
   "execution_count": 81,
   "metadata": {},
   "outputs": [
    {
     "data": {
      "text/plain": [
       "array([[  75.],\n",
       "       [-225.],\n",
       "       [ 100.]])"
      ]
     },
     "execution_count": 81,
     "metadata": {},
     "output_type": "execute_result"
    }
   ],
   "source": [
    "P_r = np.zeros((nr,1))\n",
    "for i in range(nr):  \n",
    "    index = int(R[i])\n",
    "    P_r[i] = P[index]    \n",
    "P_r"
   ]
  },
  {
   "cell_type": "code",
   "execution_count": 86,
   "metadata": {},
   "outputs": [
    {
     "data": {
      "text/plain": [
       "[array([-2.38095238e-06]), array([1.25e-05]), array([-2.97619048e-06])]"
      ]
     },
     "execution_count": 86,
     "metadata": {},
     "output_type": "execute_result"
    }
   ],
   "source": [
    "deformacoes=[]\n",
    "tensoes=[]\n",
    "forcas=[]\n",
    "massa=0\n",
    "for i in range (nm):\n",
    "        \n",
    "    matriz = [\n",
    "            u[(int(Inc[i, 0])-1)*2], \n",
    "            u[(int(Inc[i, 0])-1)*2 +1], \n",
    "            u[(int(Inc[i, 1])-1)*2], \n",
    "            u[int(Inc[i, 1]-1)*2 +1]]\n",
    "    \n",
    "    L = sqrt(((N[0][int(Inc[:,0][i])-1]-N[0][int(Inc[:,1][i])-1])**2+( N[1][int(Inc[:,0][i])-1]-N[1][int(Inc[:,1][i])-1]    )**2))  \n",
    "    E =  Inc[i, 2]\n",
    "    A = Inc[i,3]\n",
    "    const = E*A/L\n",
    "    \n",
    "    massa += L*A*848\n",
    "    \n",
    "    s = (y2-y1)/L\n",
    "    c = (x2-x1)/L\n",
    "    \n",
    "    C = [-c, -s, c, s]\n",
    "\n",
    "    deformacao = (1/L) * np.matmul(C, matriz)\n",
    "    tensao = deformacao*E\n",
    "    forca=tensao*A\n",
    "    \n",
    "    deformacoes.append(deformacao)\n",
    "    tensoes.append(tensao)\n",
    "    forcas.append(forca)\n",
    "\n",
    "deformacoes"
   ]
  },
  {
   "cell_type": "code",
   "execution_count": 83,
   "metadata": {},
   "outputs": [
    {
     "data": {
      "text/plain": [
       "[array([100.]), array([225.]), array([-125.])]"
      ]
     },
     "execution_count": 83,
     "metadata": {},
     "output_type": "execute_result"
    }
   ],
   "source": [
    "forcas"
   ]
  },
  {
   "cell_type": "code",
   "execution_count": null,
   "metadata": {},
   "outputs": [],
   "source": []
  }
 ],
 "metadata": {
  "kernelspec": {
   "display_name": "Python 3",
   "language": "python",
   "name": "python3"
  },
  "language_info": {
   "codemirror_mode": {
    "name": "ipython",
    "version": 3
   },
   "file_extension": ".py",
   "mimetype": "text/x-python",
   "name": "python",
   "nbconvert_exporter": "python",
   "pygments_lexer": "ipython3",
   "version": "3.8.8"
  }
 },
 "nbformat": 4,
 "nbformat_minor": 2
}
